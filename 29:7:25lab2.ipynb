{
  "nbformat": 4,
  "nbformat_minor": 0,
  "metadata": {
    "colab": {
      "provenance": []
    },
    "kernelspec": {
      "name": "python3",
      "display_name": "Python 3"
    },
    "language_info": {
      "name": "python"
    }
  },
  "cells": [
    {
      "cell_type": "code",
      "execution_count": null,
      "metadata": {
        "id": "VN_yrkVmqoeE"
      },
      "outputs": [],
      "source": [
        "import re\n",
        "url =\"I love spending time at https://www.xy123z.com/\"\n",
        "email = \"My email id is xyz111@gmail.com\"\n",
        "mention = \"@Ajit, please help me\"\n",
        "anynumber = \"8853147 sq. km of area washed away in floods\"\n",
        "punctuation = \"Corona virus killed #24506 people. #Corona is un(tolerable)\"\n",
        "pan1 =\"ABCED3193P\"\n",
        "pan2= \"lEcGD012eg\"\n",
        "rmrepeat = \"heyyy this is a verrrry loong texttt\"\n",
        "mob_num = \"9990001796 is a phone number of PMO office\"\n",
        "caoital = \"Ajit Doval is the best National Security Advisor so far.\""
      ]
    },
    {
      "cell_type": "code",
      "source": [
        "import re\n",
        "\n",
        "example = \"I love spending time at https://www.xy123z.com/\"\n",
        "url = re.findall(r'https?://\\S+', example)\n",
        "print(f\"URL: {url}\")"
      ],
      "metadata": {
        "id": "x-2qlwQjz6PD",
        "colab": {
          "base_uri": "https://localhost:8080/"
        },
        "outputId": "881e28ef-f7ac-4ee7-b1ea-3cf768e5b3dc"
      },
      "execution_count": 1,
      "outputs": [
        {
          "output_type": "stream",
          "name": "stdout",
          "text": [
            "URL: ['https://www.xy123z.com/']\n"
          ]
        }
      ]
    },
    {
      "cell_type": "code",
      "source": [
        "def fi_email(text):\n",
        "  return re."
      ],
      "metadata": {
        "colab": {
          "base_uri": "https://localhost:8080/"
        },
        "id": "yAvJjFGP0TUh",
        "outputId": "f81ae4fb-999c-401d-884d-cc7adb5a0058"
      },
      "execution_count": 2,
      "outputs": [
        {
          "output_type": "stream",
          "name": "stdout",
          "text": [
            "Email ID: ['xyz111@gmail.com']\n"
          ]
        }
      ]
    },
    {
      "cell_type": "code",
      "source": [
        "import re\n",
        "\n",
        "example = \"#Sushant is trending now in the world.\"\n",
        "hashtags = re.findall(r'#\\w+', example)\n",
        "print(f\"Hashtags: {hashtags}\")"
      ],
      "metadata": {
        "id": "tC-Try0G6bTS"
      },
      "execution_count": null,
      "outputs": []
    },
    {
      "cell_type": "code",
      "source": [
        "import re\n",
        "\n",
        "example = \"@Ajit, please help me\"\n",
        "mentions = re.findall(r'@\\w+', example)\n",
        "print(f\"Mentions: {mentions}\")"
      ],
      "metadata": {
        "id": "N6HB0Hzm6etl"
      },
      "execution_count": null,
      "outputs": []
    },
    {
      "cell_type": "code",
      "source": [
        "import re\n",
        "\n",
        "example = \"8853147 sq. km of area washed away in floods\"\n",
        "numbers = re.findall(r'\\d+', example)\n",
        "print(f\"Numbers: {numbers}\")"
      ],
      "metadata": {
        "id": "yxLmRbPe6k1H"
      },
      "execution_count": null,
      "outputs": []
    },
    {
      "cell_type": "code",
      "source": [
        "import re\n",
        "\n",
        "example = \"Corona virus killed #24506 people. #Corona is un(tolerable)\"\n",
        "punctuations = re.findall(r'[^\\w\\s]', example)\n",
        "print(f\"Punctuation: {punctuations}\")"
      ],
      "metadata": {
        "id": "-1YqXt-26m4a"
      },
      "execution_count": null,
      "outputs": []
    },
    {
      "cell_type": "code",
      "source": [
        "import re\n",
        "\n",
        "def validate_pan(pan_number):\n",
        "    # The pattern checks for 5 uppercase letters, 4 digits, and 1 final uppercase letter.\n",
        "    # ^ and $ ensure the entire string must match the pattern.\n",
        "    pattern = r'^[A-Z]{5}\\d{4}[A-Z]$'\n",
        "    if re.fullmatch(pattern, pan_number):\n",
        "        return f\"'{pan_number}' is a valid PAN number.\"\n",
        "    else:\n",
        "        return f\"'{pan_number}' is an invalid PAN number.\"\n",
        "\n",
        "# Test cases\n",
        "pan1 = \"ABCED3193P\"\n",
        "pan2 = \"lEcGD012eg\"\n",
        "\n",
        "print(validate_pan(pan1))\n",
        "print(validate_pan(pan2))"
      ],
      "metadata": {
        "colab": {
          "base_uri": "https://localhost:8080/"
        },
        "id": "08MgLSMc6puw",
        "outputId": "209f192b-0091-4482-d14f-66045a2897f4"
      },
      "execution_count": 3,
      "outputs": [
        {
          "output_type": "stream",
          "name": "stdout",
          "text": [
            "'ABCED3193P' is a valid PAN number.\n",
            "'lEcGD012eg' is an invalid PAN number.\n"
          ]
        }
      ]
    },
    {
      "cell_type": "code",
      "source": [
        "import re\n",
        "\n",
        "example = \"heyyy this is a verrrry loong texttt\"\n",
        "# (.) captures any character, \\1+ matches one or more repetitions of the captured character.\n",
        "# The replacement \\1 uses the single captured character.\n",
        "result = re.sub(r'(.)\\1+', r'\\1', example)\n",
        "print(f\"Original: {example}\")\n",
        "print(f\"Corrected: {result}\")"
      ],
      "metadata": {
        "colab": {
          "base_uri": "https://localhost:8080/"
        },
        "id": "S3PJhMRb6t4v",
        "outputId": "b96d157a-bc22-47c4-9b87-3ae2ed98283c"
      },
      "execution_count": 5,
      "outputs": [
        {
          "output_type": "stream",
          "name": "stdout",
          "text": [
            "Original: heyyy this is a verrrry loong texttt\n",
            "Corrected: hey this is a very long text\n"
          ]
        }
      ]
    },
    {
      "cell_type": "code",
      "source": [
        "import re\n",
        "\n",
        "example = \"9990001796 is a phone number of PMO office\"\n",
        "mobile_numbers = re.findall(r'\\b[6-9]\\d{9}\\b', example)\n",
        "print(f\"Mobile Numbers: {mobile_numbers}\")"
      ],
      "metadata": {
        "colab": {
          "base_uri": "https://localhost:8080/"
        },
        "id": "C_oSMkiH6x6o",
        "outputId": "1a1f06d6-0e4a-45e4-d03b-04bc97645fa0"
      },
      "execution_count": 4,
      "outputs": [
        {
          "output_type": "stream",
          "name": "stdout",
          "text": [
            "Mobile Numbers: ['9990001796']\n"
          ]
        }
      ]
    },
    {
      "cell_type": "code",
      "source": [
        "import re\n",
        "\n",
        "example = \"Ajit Doval is the best National Security Advisor so far.\"\n",
        "capitalized_words = re.findall(r'\\b[A-Z]\\w*\\b', example)\n",
        "print(f\"Words starting with a capital letter: {capitalized_words}\")"
      ],
      "metadata": {
        "colab": {
          "base_uri": "https://localhost:8080/"
        },
        "id": "raUVfjfE60iI",
        "outputId": "4fb24c8a-666f-4536-c4d5-ea41d1b2aa4d"
      },
      "execution_count": 6,
      "outputs": [
        {
          "output_type": "stream",
          "name": "stdout",
          "text": [
            "Words starting with a capital letter: ['Ajit', 'Doval', 'National', 'Security', 'Advisor']\n"
          ]
        }
      ]
    }
  ]
}